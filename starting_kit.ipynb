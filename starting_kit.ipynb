{
 "cells": [
  {
   "cell_type": "markdown",
   "id": "f5fad50d-4743-4098-9841-c923672eb34c",
   "metadata": {},
   "source": [
    "# Get and Format data "
   ]
  },
  {
   "cell_type": "code",
   "execution_count": 1,
   "id": "7cddf3bd-e2b1-4540-bd9b-514427c003ec",
   "metadata": {
    "tags": []
   },
   "outputs": [],
   "source": [
    "from tqdm import tqdm\n",
    "import gzip\n",
    "import os\n",
    "import shutil\n",
    "import urllib.request\n",
    "import requests\n",
    "import json\n",
    "import io\n",
    "import pandas as pd\n",
    "import numpy as np\n",
    "import rampwf as rw\n",
    "from rampwf.workflows.sklearn_pipeline import SKLearnPipeline, Estimator\n",
    "from rampwf.prediction_types import make_regression\n",
    "from sklearn.model_selection import KFold\n",
    "import matplotlib.pyplot as plt\n",
    "import seaborn as sns\n",
    "import geopandas as gpd\n",
    "import folium\n",
    "\n",
    "from problem import *"
   ]
  },
  {
   "cell_type": "code",
   "execution_count": 21,
   "id": "f6fb01c2-3740-426b-829b-6818f7387e48",
   "metadata": {},
   "outputs": [],
   "source": [
    "X_train, Y_train = get_train_data()\n",
    "X_test, Y_test = get_test_data()"
   ]
  },
  {
   "cell_type": "code",
   "execution_count": 22,
   "id": "87fab1c5-7faf-4c04-94e2-d0189c4ea625",
   "metadata": {},
   "outputs": [
    {
     "data": {
      "text/plain": "            numero_dpe  usr_diagnostiqueur_id  usr_logiciel_id  \\\nid                                                               \n9847012  2059V4000211I                  11256                3   \n3100675  1642V8000063O                   5950                3   \n7649230  1961V8000037T                  18128                3   \n9675593  2049V3000020E                   8018               10   \n7957705  1959V4000173X                  12423                2   \n\n         tr001_modele_dpe_id  nom_methode_dpe version_methode_dpe  \\\nid                                                                  \n9847012                    4  Méthode Facture                None   \n3100675                    8  Méthode Facture                None   \n7649230                    8  Méthode Facture                None   \n9675593                    3    FACTURE - DPE               V2012   \n7957705                    4        3CL - DPE               V2012   \n\n        nom_methode_etude_thermique version_methode_etude_thermique  \\\nid                                                                    \n9847012                          \\N                              \\N   \n3100675                          \\N                              \\N   \n7649230                          \\N                              \\N   \n9675593                          \\N                              \\N   \n7957705                          \\N                              \\N   \n\n        date_visite_diagnostiqueur date_etablissement_dpe  ...  \\\nid                                                         ...   \n9847012                 2020-07-16             2020-07-16  ...   \n3100675                 2016-02-15             2016-02-24  ...   \n7649230                 2019-03-14             2019-03-15  ...   \n9675593                 2020-03-25             2020-03-25  ...   \n7957705                 2019-04-17             2019-04-10  ...   \n\n        tv017_zone_hiver_code tv017_zone_hiver_t_ext_moyen  \\\nid                                                           \n9847012                    H1                         6.58   \n3100675                    H1                         6.58   \n7649230                    H1                         6.58   \n9675593                    H2                         8.08   \n7957705                    H1                         6.58   \n\n        tv017_zone_hiver_peta_cw  tv017_zone_hiver_dh14 tv017_zone_hiver_prs1  \\\nid                                                                              \n9847012                     10.5                  42030                   3.6   \n3100675                     10.5                  42030                   3.6   \n7649230                     10.5                  42030                   3.6   \n9675593                     12.0                  33300                   3.4   \n7957705                     10.5                  42030                   3.6   \n\n        tv018_zone_ete_code tv018_zone_ete_sclim_inf_150  \\\nid                                                         \n9847012                  Ea                            2   \n3100675                  Ec                            4   \n7649230                  Ea                            2   \n9675593                  Eb                            3   \n7957705                  Ea                            2   \n\n         tv018_zone_ete_sclim_sup_150 tv018_zone_ete_rclim_autres_etages  \\\nid                                                                         \n9847012                             4                                1.5   \n3100675                             6                                3.0   \n7649230                             4                                1.5   \n9675593                             5                                2.0   \n7957705                             4                                1.5   \n\n        tv018_zone_ete_rclim_dernier_etage  \nid                                          \n9847012                                  2  \n3100675                                  4  \n7649230                                  2  \n9675593                                  3  \n7957705                                  2  \n\n[5 rows x 126 columns]",
      "text/html": "<div>\n<style scoped>\n    .dataframe tbody tr th:only-of-type {\n        vertical-align: middle;\n    }\n\n    .dataframe tbody tr th {\n        vertical-align: top;\n    }\n\n    .dataframe thead th {\n        text-align: right;\n    }\n</style>\n<table border=\"1\" class=\"dataframe\">\n  <thead>\n    <tr style=\"text-align: right;\">\n      <th></th>\n      <th>numero_dpe</th>\n      <th>usr_diagnostiqueur_id</th>\n      <th>usr_logiciel_id</th>\n      <th>tr001_modele_dpe_id</th>\n      <th>nom_methode_dpe</th>\n      <th>version_methode_dpe</th>\n      <th>nom_methode_etude_thermique</th>\n      <th>version_methode_etude_thermique</th>\n      <th>date_visite_diagnostiqueur</th>\n      <th>date_etablissement_dpe</th>\n      <th>...</th>\n      <th>tv017_zone_hiver_code</th>\n      <th>tv017_zone_hiver_t_ext_moyen</th>\n      <th>tv017_zone_hiver_peta_cw</th>\n      <th>tv017_zone_hiver_dh14</th>\n      <th>tv017_zone_hiver_prs1</th>\n      <th>tv018_zone_ete_code</th>\n      <th>tv018_zone_ete_sclim_inf_150</th>\n      <th>tv018_zone_ete_sclim_sup_150</th>\n      <th>tv018_zone_ete_rclim_autres_etages</th>\n      <th>tv018_zone_ete_rclim_dernier_etage</th>\n    </tr>\n    <tr>\n      <th>id</th>\n      <th></th>\n      <th></th>\n      <th></th>\n      <th></th>\n      <th></th>\n      <th></th>\n      <th></th>\n      <th></th>\n      <th></th>\n      <th></th>\n      <th></th>\n      <th></th>\n      <th></th>\n      <th></th>\n      <th></th>\n      <th></th>\n      <th></th>\n      <th></th>\n      <th></th>\n      <th></th>\n      <th></th>\n    </tr>\n  </thead>\n  <tbody>\n    <tr>\n      <th>9847012</th>\n      <td>2059V4000211I</td>\n      <td>11256</td>\n      <td>3</td>\n      <td>4</td>\n      <td>Méthode Facture</td>\n      <td>None</td>\n      <td>\\N</td>\n      <td>\\N</td>\n      <td>2020-07-16</td>\n      <td>2020-07-16</td>\n      <td>...</td>\n      <td>H1</td>\n      <td>6.58</td>\n      <td>10.5</td>\n      <td>42030</td>\n      <td>3.6</td>\n      <td>Ea</td>\n      <td>2</td>\n      <td>4</td>\n      <td>1.5</td>\n      <td>2</td>\n    </tr>\n    <tr>\n      <th>3100675</th>\n      <td>1642V8000063O</td>\n      <td>5950</td>\n      <td>3</td>\n      <td>8</td>\n      <td>Méthode Facture</td>\n      <td>None</td>\n      <td>\\N</td>\n      <td>\\N</td>\n      <td>2016-02-15</td>\n      <td>2016-02-24</td>\n      <td>...</td>\n      <td>H1</td>\n      <td>6.58</td>\n      <td>10.5</td>\n      <td>42030</td>\n      <td>3.6</td>\n      <td>Ec</td>\n      <td>4</td>\n      <td>6</td>\n      <td>3.0</td>\n      <td>4</td>\n    </tr>\n    <tr>\n      <th>7649230</th>\n      <td>1961V8000037T</td>\n      <td>18128</td>\n      <td>3</td>\n      <td>8</td>\n      <td>Méthode Facture</td>\n      <td>None</td>\n      <td>\\N</td>\n      <td>\\N</td>\n      <td>2019-03-14</td>\n      <td>2019-03-15</td>\n      <td>...</td>\n      <td>H1</td>\n      <td>6.58</td>\n      <td>10.5</td>\n      <td>42030</td>\n      <td>3.6</td>\n      <td>Ea</td>\n      <td>2</td>\n      <td>4</td>\n      <td>1.5</td>\n      <td>2</td>\n    </tr>\n    <tr>\n      <th>9675593</th>\n      <td>2049V3000020E</td>\n      <td>8018</td>\n      <td>10</td>\n      <td>3</td>\n      <td>FACTURE - DPE</td>\n      <td>V2012</td>\n      <td>\\N</td>\n      <td>\\N</td>\n      <td>2020-03-25</td>\n      <td>2020-03-25</td>\n      <td>...</td>\n      <td>H2</td>\n      <td>8.08</td>\n      <td>12.0</td>\n      <td>33300</td>\n      <td>3.4</td>\n      <td>Eb</td>\n      <td>3</td>\n      <td>5</td>\n      <td>2.0</td>\n      <td>3</td>\n    </tr>\n    <tr>\n      <th>7957705</th>\n      <td>1959V4000173X</td>\n      <td>12423</td>\n      <td>2</td>\n      <td>4</td>\n      <td>3CL - DPE</td>\n      <td>V2012</td>\n      <td>\\N</td>\n      <td>\\N</td>\n      <td>2019-04-17</td>\n      <td>2019-04-10</td>\n      <td>...</td>\n      <td>H1</td>\n      <td>6.58</td>\n      <td>10.5</td>\n      <td>42030</td>\n      <td>3.6</td>\n      <td>Ea</td>\n      <td>2</td>\n      <td>4</td>\n      <td>1.5</td>\n      <td>2</td>\n    </tr>\n  </tbody>\n</table>\n<p>5 rows × 126 columns</p>\n</div>"
     },
     "execution_count": 22,
     "metadata": {},
     "output_type": "execute_result"
    }
   ],
   "source": [
    "X_train.head()"
   ]
  },
  {
   "cell_type": "code",
   "execution_count": 7,
   "outputs": [
    {
     "data": {
      "text/plain": "        classe_consommation_energie classe_estimation_ges\nid                                                       \n9847012                           C                     D\n3100675                           E                     B\n7649230                           G                     D\n9675593                           C                     B\n7957705                           E                     E",
      "text/html": "<div>\n<style scoped>\n    .dataframe tbody tr th:only-of-type {\n        vertical-align: middle;\n    }\n\n    .dataframe tbody tr th {\n        vertical-align: top;\n    }\n\n    .dataframe thead th {\n        text-align: right;\n    }\n</style>\n<table border=\"1\" class=\"dataframe\">\n  <thead>\n    <tr style=\"text-align: right;\">\n      <th></th>\n      <th>classe_consommation_energie</th>\n      <th>classe_estimation_ges</th>\n    </tr>\n    <tr>\n      <th>id</th>\n      <th></th>\n      <th></th>\n    </tr>\n  </thead>\n  <tbody>\n    <tr>\n      <th>9847012</th>\n      <td>C</td>\n      <td>D</td>\n    </tr>\n    <tr>\n      <th>3100675</th>\n      <td>E</td>\n      <td>B</td>\n    </tr>\n    <tr>\n      <th>7649230</th>\n      <td>G</td>\n      <td>D</td>\n    </tr>\n    <tr>\n      <th>9675593</th>\n      <td>C</td>\n      <td>B</td>\n    </tr>\n    <tr>\n      <th>7957705</th>\n      <td>E</td>\n      <td>E</td>\n    </tr>\n  </tbody>\n</table>\n</div>"
     },
     "execution_count": 7,
     "metadata": {},
     "output_type": "execute_result"
    }
   ],
   "source": [
    "Y_train.head()"
   ],
   "metadata": {
    "collapsed": false
   }
  },
  {
   "cell_type": "code",
   "execution_count": 5,
   "outputs": [
    {
     "data": {
      "text/plain": "(197413, 126)"
     },
     "execution_count": 5,
     "metadata": {},
     "output_type": "execute_result"
    }
   ],
   "source": [
    "X_train.shape"
   ],
   "metadata": {
    "collapsed": false
   }
  },
  {
   "cell_type": "code",
   "execution_count": 8,
   "outputs": [
    {
     "data": {
      "text/plain": "(84606, 126)"
     },
     "execution_count": 8,
     "metadata": {},
     "output_type": "execute_result"
    }
   ],
   "source": [
    "X_test.shape"
   ],
   "metadata": {
    "collapsed": false
   }
  },
  {
   "cell_type": "code",
   "execution_count": 6,
   "outputs": [
    {
     "data": {
      "text/plain": "(197413, 2)"
     },
     "execution_count": 6,
     "metadata": {},
     "output_type": "execute_result"
    }
   ],
   "source": [
    "Y_train.shape"
   ],
   "metadata": {
    "collapsed": false
   }
  },
  {
   "cell_type": "code",
   "execution_count": 9,
   "id": "1705cfe9-8969-423c-bf50-5cca14938083",
   "metadata": {},
   "outputs": [
    {
     "data": {
      "text/plain": "(84606, 2)"
     },
     "execution_count": 9,
     "metadata": {},
     "output_type": "execute_result"
    }
   ],
   "source": [
    "Y_test.shape"
   ]
  },
  {
   "cell_type": "code",
   "execution_count": 10,
   "id": "9df40180-2adf-420c-ba5c-59b6e7b2ce83",
   "metadata": {},
   "outputs": [],
   "source": [
    "df_train = pd.concat([X_train, Y_train], axis=1)\n",
    "df_test = pd.concat([X_test, Y_test], axis=1)\n",
    "\n",
    "df = pd.concat([df_train, df_test], axis=0)"
   ]
  },
  {
   "cell_type": "code",
   "execution_count": 11,
   "outputs": [
    {
     "data": {
      "text/plain": "(197413, 128)"
     },
     "execution_count": 11,
     "metadata": {},
     "output_type": "execute_result"
    }
   ],
   "source": [
    "df_train.shape"
   ],
   "metadata": {
    "collapsed": false
   }
  },
  {
   "cell_type": "code",
   "execution_count": 12,
   "id": "641bb80f-3f9c-41ca-9699-9e7ff3e74809",
   "metadata": {},
   "outputs": [
    {
     "data": {
      "text/plain": "       usr_diagnostiqueur_id  usr_logiciel_id  tr001_modele_dpe_id  \\\ncount          282019.000000    282019.000000        282019.000000   \nmean            10242.676423         5.559133             8.272815   \nstd              5655.386934         3.946452             5.005003   \nmin                 3.000000         2.000000             1.000000   \n25%              5902.000000         3.000000             4.000000   \n50%             10136.000000         3.000000             8.000000   \n75%             14270.000000        10.000000             8.000000   \nmax             25879.000000        16.000000            24.000000   \n\n       tr002_type_batiment_id  annee_construction  tv016_departement_id  \\\ncount           282019.000000       282019.000000         282019.000000   \nmean                 4.029909         1628.223471             54.114613   \nstd                  0.170338          744.884863             26.394410   \nmin                  4.000000           -1.000000              1.000000   \n25%                  4.000000         1947.000000             33.000000   \n50%                  4.000000         1948.000000             59.000000   \n75%                  4.000000         1982.000000             75.000000   \nmax                  5.000000        20011.000000             97.000000   \n\n       etat_avancement  est_efface      longitude       latitude  ...  \\\ncount         282019.0    282019.0  219072.000000  219072.000000  ...   \nmean               1.0         0.0       2.703148      47.160061  ...   \nstd                0.0         0.0       2.770933       2.093992  ...   \nmin                1.0         0.0     -61.525777      16.415924  ...   \n25%                1.0         0.0       1.095219      45.716518  ...   \n50%                1.0         0.0       2.415382      47.684452  ...   \n75%                1.0         0.0       4.868526      48.857486  ...   \nmax                1.0         0.0       9.551810      51.080627  ...   \n\n       tv016_departement_fecs_ancienne_i_c  \\\ncount                        282019.000000   \nmean                             30.102057   \nstd                               4.953456   \nmin                              24.000000   \n25%                              26.000000   \n50%                              29.000000   \n75%                              32.000000   \nmax                              43.000000   \n\n       tv016_departement_fecs_recente_i_c  tv017_zone_hiver_t_ext_moyen  \\\ncount                       282019.000000                 282019.000000   \nmean                            43.323521                      7.323090   \nstd                              8.866348                      1.024704   \nmin                              0.000000                      6.580000   \n25%                             38.000000                      6.580000   \n50%                             42.000000                      6.580000   \n75%                             47.000000                      8.080000   \nmax                             62.000000                      9.650000   \n\n       tv017_zone_hiver_peta_cw  tv017_zone_hiver_dh14  tv017_zone_hiver_prs1  \\\ncount             282019.000000          282019.000000          282019.000000   \nmean                  11.337165           37506.687635               3.471519   \nstd                    1.251587            6426.050606               0.211172   \nmin                   10.500000           22200.000000               2.900000   \n25%                   10.500000           33300.000000               3.400000   \n50%                   10.500000           42030.000000               3.600000   \n75%                   12.000000           42030.000000               3.600000   \nmax                   14.500000           42030.000000               3.600000   \n\n       tv018_zone_ete_sclim_inf_150  tv018_zone_ete_sclim_sup_150  \\\ncount                 282019.000000                 282019.000000   \nmean                       3.369184                      5.369184   \nstd                        0.913262                      0.913262   \nmin                        2.000000                      4.000000   \n25%                        3.000000                      5.000000   \n50%                        3.000000                      5.000000   \n75%                        4.000000                      6.000000   \nmax                        5.000000                      7.000000   \n\n       tv018_zone_ete_rclim_autres_etages  tv018_zone_ete_rclim_dernier_etage  \ncount                       282019.000000                       282019.000000  \nmean                             2.456113                            3.369184  \nstd                              0.794929                            0.913262  \nmin                              1.500000                            2.000000  \n25%                              2.000000                            3.000000  \n50%                              2.000000                            3.000000  \n75%                              3.000000                            4.000000  \nmax                              4.000000                            5.000000  \n\n[8 rows x 46 columns]",
      "text/html": "<div>\n<style scoped>\n    .dataframe tbody tr th:only-of-type {\n        vertical-align: middle;\n    }\n\n    .dataframe tbody tr th {\n        vertical-align: top;\n    }\n\n    .dataframe thead th {\n        text-align: right;\n    }\n</style>\n<table border=\"1\" class=\"dataframe\">\n  <thead>\n    <tr style=\"text-align: right;\">\n      <th></th>\n      <th>usr_diagnostiqueur_id</th>\n      <th>usr_logiciel_id</th>\n      <th>tr001_modele_dpe_id</th>\n      <th>tr002_type_batiment_id</th>\n      <th>annee_construction</th>\n      <th>tv016_departement_id</th>\n      <th>etat_avancement</th>\n      <th>est_efface</th>\n      <th>longitude</th>\n      <th>latitude</th>\n      <th>...</th>\n      <th>tv016_departement_fecs_ancienne_i_c</th>\n      <th>tv016_departement_fecs_recente_i_c</th>\n      <th>tv017_zone_hiver_t_ext_moyen</th>\n      <th>tv017_zone_hiver_peta_cw</th>\n      <th>tv017_zone_hiver_dh14</th>\n      <th>tv017_zone_hiver_prs1</th>\n      <th>tv018_zone_ete_sclim_inf_150</th>\n      <th>tv018_zone_ete_sclim_sup_150</th>\n      <th>tv018_zone_ete_rclim_autres_etages</th>\n      <th>tv018_zone_ete_rclim_dernier_etage</th>\n    </tr>\n  </thead>\n  <tbody>\n    <tr>\n      <th>count</th>\n      <td>282019.000000</td>\n      <td>282019.000000</td>\n      <td>282019.000000</td>\n      <td>282019.000000</td>\n      <td>282019.000000</td>\n      <td>282019.000000</td>\n      <td>282019.0</td>\n      <td>282019.0</td>\n      <td>219072.000000</td>\n      <td>219072.000000</td>\n      <td>...</td>\n      <td>282019.000000</td>\n      <td>282019.000000</td>\n      <td>282019.000000</td>\n      <td>282019.000000</td>\n      <td>282019.000000</td>\n      <td>282019.000000</td>\n      <td>282019.000000</td>\n      <td>282019.000000</td>\n      <td>282019.000000</td>\n      <td>282019.000000</td>\n    </tr>\n    <tr>\n      <th>mean</th>\n      <td>10242.676423</td>\n      <td>5.559133</td>\n      <td>8.272815</td>\n      <td>4.029909</td>\n      <td>1628.223471</td>\n      <td>54.114613</td>\n      <td>1.0</td>\n      <td>0.0</td>\n      <td>2.703148</td>\n      <td>47.160061</td>\n      <td>...</td>\n      <td>30.102057</td>\n      <td>43.323521</td>\n      <td>7.323090</td>\n      <td>11.337165</td>\n      <td>37506.687635</td>\n      <td>3.471519</td>\n      <td>3.369184</td>\n      <td>5.369184</td>\n      <td>2.456113</td>\n      <td>3.369184</td>\n    </tr>\n    <tr>\n      <th>std</th>\n      <td>5655.386934</td>\n      <td>3.946452</td>\n      <td>5.005003</td>\n      <td>0.170338</td>\n      <td>744.884863</td>\n      <td>26.394410</td>\n      <td>0.0</td>\n      <td>0.0</td>\n      <td>2.770933</td>\n      <td>2.093992</td>\n      <td>...</td>\n      <td>4.953456</td>\n      <td>8.866348</td>\n      <td>1.024704</td>\n      <td>1.251587</td>\n      <td>6426.050606</td>\n      <td>0.211172</td>\n      <td>0.913262</td>\n      <td>0.913262</td>\n      <td>0.794929</td>\n      <td>0.913262</td>\n    </tr>\n    <tr>\n      <th>min</th>\n      <td>3.000000</td>\n      <td>2.000000</td>\n      <td>1.000000</td>\n      <td>4.000000</td>\n      <td>-1.000000</td>\n      <td>1.000000</td>\n      <td>1.0</td>\n      <td>0.0</td>\n      <td>-61.525777</td>\n      <td>16.415924</td>\n      <td>...</td>\n      <td>24.000000</td>\n      <td>0.000000</td>\n      <td>6.580000</td>\n      <td>10.500000</td>\n      <td>22200.000000</td>\n      <td>2.900000</td>\n      <td>2.000000</td>\n      <td>4.000000</td>\n      <td>1.500000</td>\n      <td>2.000000</td>\n    </tr>\n    <tr>\n      <th>25%</th>\n      <td>5902.000000</td>\n      <td>3.000000</td>\n      <td>4.000000</td>\n      <td>4.000000</td>\n      <td>1947.000000</td>\n      <td>33.000000</td>\n      <td>1.0</td>\n      <td>0.0</td>\n      <td>1.095219</td>\n      <td>45.716518</td>\n      <td>...</td>\n      <td>26.000000</td>\n      <td>38.000000</td>\n      <td>6.580000</td>\n      <td>10.500000</td>\n      <td>33300.000000</td>\n      <td>3.400000</td>\n      <td>3.000000</td>\n      <td>5.000000</td>\n      <td>2.000000</td>\n      <td>3.000000</td>\n    </tr>\n    <tr>\n      <th>50%</th>\n      <td>10136.000000</td>\n      <td>3.000000</td>\n      <td>8.000000</td>\n      <td>4.000000</td>\n      <td>1948.000000</td>\n      <td>59.000000</td>\n      <td>1.0</td>\n      <td>0.0</td>\n      <td>2.415382</td>\n      <td>47.684452</td>\n      <td>...</td>\n      <td>29.000000</td>\n      <td>42.000000</td>\n      <td>6.580000</td>\n      <td>10.500000</td>\n      <td>42030.000000</td>\n      <td>3.600000</td>\n      <td>3.000000</td>\n      <td>5.000000</td>\n      <td>2.000000</td>\n      <td>3.000000</td>\n    </tr>\n    <tr>\n      <th>75%</th>\n      <td>14270.000000</td>\n      <td>10.000000</td>\n      <td>8.000000</td>\n      <td>4.000000</td>\n      <td>1982.000000</td>\n      <td>75.000000</td>\n      <td>1.0</td>\n      <td>0.0</td>\n      <td>4.868526</td>\n      <td>48.857486</td>\n      <td>...</td>\n      <td>32.000000</td>\n      <td>47.000000</td>\n      <td>8.080000</td>\n      <td>12.000000</td>\n      <td>42030.000000</td>\n      <td>3.600000</td>\n      <td>4.000000</td>\n      <td>6.000000</td>\n      <td>3.000000</td>\n      <td>4.000000</td>\n    </tr>\n    <tr>\n      <th>max</th>\n      <td>25879.000000</td>\n      <td>16.000000</td>\n      <td>24.000000</td>\n      <td>5.000000</td>\n      <td>20011.000000</td>\n      <td>97.000000</td>\n      <td>1.0</td>\n      <td>0.0</td>\n      <td>9.551810</td>\n      <td>51.080627</td>\n      <td>...</td>\n      <td>43.000000</td>\n      <td>62.000000</td>\n      <td>9.650000</td>\n      <td>14.500000</td>\n      <td>42030.000000</td>\n      <td>3.600000</td>\n      <td>5.000000</td>\n      <td>7.000000</td>\n      <td>4.000000</td>\n      <td>5.000000</td>\n    </tr>\n  </tbody>\n</table>\n<p>8 rows × 46 columns</p>\n</div>"
     },
     "execution_count": 12,
     "metadata": {},
     "output_type": "execute_result"
    }
   ],
   "source": [
    "df.describe()"
   ]
  },
  {
   "cell_type": "code",
   "execution_count": null,
   "id": "2fa4535a-880c-4925-9d87-2c557600fa7f",
   "metadata": {},
   "outputs": [],
   "source": [
    "plt.figure(figsize=(15, 8))\n",
    "sns.heatmap(df.isna())"
   ]
  },
  {
   "cell_type": "markdown",
   "id": "7dd5278f-759b-482c-a392-e63e6771c3d1",
   "metadata": {},
   "source": [
    "# Plot interactive map"
   ]
  },
  {
   "cell_type": "code",
   "execution_count": 13,
   "id": "f38aaa63-e1de-4416-8a46-aed52ef42d5e",
   "metadata": {},
   "outputs": [],
   "source": [
    "dpe = gpd.GeoDataFrame(\n",
    "    df, geometry=gpd.points_from_xy(df.longitude, df.latitude), crs=4326\n",
    ")\n",
    "dpe = dpe.dropna(subset=[\"longitude\", \"latitude\"])"
   ]
  },
  {
   "cell_type": "code",
   "execution_count": 14,
   "id": "faf5dbe5-4f14-4883-bdc8-dd69ef553fac",
   "metadata": {},
   "outputs": [
    {
     "name": "stderr",
     "output_type": "stream",
     "text": [
      "/Users/guillaumephilippe/own-ramp-kit/.venv/lib/python3.10/site-packages/geopandas/geodataframe.py:1443: SettingWithCopyWarning: \n",
      "A value is trying to be set on a copy of a slice from a DataFrame.\n",
      "Try using .loc[row_indexer,col_indexer] = value instead\n",
      "\n",
      "See the caveats in the documentation: https://pandas.pydata.org/pandas-docs/stable/user_guide/indexing.html#returning-a-view-versus-a-copy\n",
      "  super().__setitem__(key, value)\n"
     ]
    }
   ],
   "source": [
    "palette = sns.color_palette(\"coolwarm\", 8)\n",
    "\n",
    "\n",
    "def interactive_map_dpe(dpe):\n",
    "    # convert in number\n",
    "    dpe[\"color\"] = [\n",
    "        ord(dpe.iloc[i][\"classe_consommation_energie\"].lower()) - 96\n",
    "        for i in range(len(dpe))\n",
    "    ]\n",
    "    dpe = dpe.loc[dpe[\"color\"] <= 7]\n",
    "    dpe[\"color\"] = [palette.as_hex()[x] for x in dpe[\"color\"]]\n",
    "\n",
    "    center = dpe[[\"latitude\", \"longitude\"]].mean().values.tolist()\n",
    "    sw = dpe[[\"latitude\", \"longitude\"]].min().values.tolist()\n",
    "    ne = dpe[[\"latitude\", \"longitude\"]].max().values.tolist()\n",
    "\n",
    "    m = folium.Map(location=center, tiles=\"Stamen Toner\")\n",
    "\n",
    "    # I can add marker one by one on the map\n",
    "    for i in range(0, len(dpe)):\n",
    "        folium.Marker(\n",
    "            [dpe.iloc[i][\"latitude\"], dpe.iloc[i][\"longitude\"]],\n",
    "            popup=f\"Année de construction: {dpe.iloc[i]['annee_construction']}, <br>DPE: {dpe.iloc[i]['classe_consommation_energie']}\",\n",
    "            icon=folium.Icon(\n",
    "                color=\"black\", icon=\"home\", icon_color=dpe.iloc[i][\"color\"]\n",
    "            ),\n",
    "        ).add_to(m)\n",
    "\n",
    "    m.fit_bounds([sw, ne])\n",
    "\n",
    "    return m\n",
    "\n",
    "\n",
    "m = interactive_map_dpe(dpe.head(10))"
   ]
  },
  {
   "cell_type": "code",
   "execution_count": 15,
   "id": "54c78b75-f835-4889-9a9b-fe849c65e445",
   "metadata": {},
   "outputs": [
    {
     "data": {
      "text/plain": "<folium.folium.Map at 0x126b30640>",
      "text/html": "<div style=\"width:100%;\"><div style=\"position:relative;width:100%;height:0;padding-bottom:60%;\"><span style=\"color:#565656\">Make this Notebook Trusted to load map: File -> Trust Notebook</span><iframe srcdoc=\"&lt;!DOCTYPE html&gt;\n&lt;html&gt;\n&lt;head&gt;\n    \n    &lt;meta http-equiv=&quot;content-type&quot; content=&quot;text/html; charset=UTF-8&quot; /&gt;\n    \n        &lt;script&gt;\n            L_NO_TOUCH = false;\n            L_DISABLE_3D = false;\n        &lt;/script&gt;\n    \n    &lt;style&gt;html, body {width: 100%;height: 100%;margin: 0;padding: 0;}&lt;/style&gt;\n    &lt;style&gt;#map {position:absolute;top:0;bottom:0;right:0;left:0;}&lt;/style&gt;\n    &lt;script src=&quot;https://cdn.jsdelivr.net/npm/leaflet@1.9.3/dist/leaflet.js&quot;&gt;&lt;/script&gt;\n    &lt;script src=&quot;https://code.jquery.com/jquery-1.12.4.min.js&quot;&gt;&lt;/script&gt;\n    &lt;script src=&quot;https://cdn.jsdelivr.net/npm/bootstrap@5.2.2/dist/js/bootstrap.bundle.min.js&quot;&gt;&lt;/script&gt;\n    &lt;script src=&quot;https://cdnjs.cloudflare.com/ajax/libs/Leaflet.awesome-markers/2.0.2/leaflet.awesome-markers.js&quot;&gt;&lt;/script&gt;\n    &lt;link rel=&quot;stylesheet&quot; href=&quot;https://cdn.jsdelivr.net/npm/leaflet@1.9.3/dist/leaflet.css&quot;/&gt;\n    &lt;link rel=&quot;stylesheet&quot; href=&quot;https://cdn.jsdelivr.net/npm/bootstrap@5.2.2/dist/css/bootstrap.min.css&quot;/&gt;\n    &lt;link rel=&quot;stylesheet&quot; href=&quot;https://netdna.bootstrapcdn.com/bootstrap/3.0.0/css/bootstrap.min.css&quot;/&gt;\n    &lt;link rel=&quot;stylesheet&quot; href=&quot;https://cdn.jsdelivr.net/npm/@fortawesome/fontawesome-free@6.2.0/css/all.min.css&quot;/&gt;\n    &lt;link rel=&quot;stylesheet&quot; href=&quot;https://cdnjs.cloudflare.com/ajax/libs/Leaflet.awesome-markers/2.0.2/leaflet.awesome-markers.css&quot;/&gt;\n    &lt;link rel=&quot;stylesheet&quot; href=&quot;https://cdn.jsdelivr.net/gh/python-visualization/folium/folium/templates/leaflet.awesome.rotate.min.css&quot;/&gt;\n    \n            &lt;meta name=&quot;viewport&quot; content=&quot;width=device-width,\n                initial-scale=1.0, maximum-scale=1.0, user-scalable=no&quot; /&gt;\n            &lt;style&gt;\n                #map_6c25fceac0a96b1f58d9f7ada6c372cc {\n                    position: relative;\n                    width: 100.0%;\n                    height: 100.0%;\n                    left: 0.0%;\n                    top: 0.0%;\n                }\n                .leaflet-container { font-size: 1rem; }\n            &lt;/style&gt;\n        \n&lt;/head&gt;\n&lt;body&gt;\n    \n    \n            &lt;div class=&quot;folium-map&quot; id=&quot;map_6c25fceac0a96b1f58d9f7ada6c372cc&quot; &gt;&lt;/div&gt;\n        \n&lt;/body&gt;\n&lt;script&gt;\n    \n    \n            var map_6c25fceac0a96b1f58d9f7ada6c372cc = L.map(\n                &quot;map_6c25fceac0a96b1f58d9f7ada6c372cc&quot;,\n                {\n                    center: [47.236526100000006, 3.0491346],\n                    crs: L.CRS.EPSG3857,\n                    zoom: 10,\n                    zoomControl: true,\n                    preferCanvas: false,\n                }\n            );\n\n            \n\n        \n    \n            var tile_layer_18b889844575e9c3ee8995993e5e85b7 = L.tileLayer(\n                &quot;https://stamen-tiles-{s}.a.ssl.fastly.net/toner/{z}/{x}/{y}.png&quot;,\n                {&quot;attribution&quot;: &quot;Map tiles by \\u003ca target=\\&quot;_blank\\&quot; href=\\&quot;http://stamen.com\\&quot;\\u003eStamen Design\\u003c/a\\u003e, under \\u003ca target=\\&quot;_blank\\&quot; href=\\&quot;http://creativecommons.org/licenses/by/3.0\\&quot;\\u003eCC BY 3.0\\u003c/a\\u003e. Data by \\u0026copy; \\u003ca target=\\&quot;_blank\\&quot; href=\\&quot;http://openstreetmap.org\\&quot;\\u003eOpenStreetMap\\u003c/a\\u003e, under \\u003ca target=\\&quot;_blank\\&quot; href=\\&quot;http://www.openstreetmap.org/copyright\\&quot;\\u003eODbL\\u003c/a\\u003e.&quot;, &quot;detectRetina&quot;: false, &quot;maxNativeZoom&quot;: 18, &quot;maxZoom&quot;: 18, &quot;minZoom&quot;: 0, &quot;noWrap&quot;: false, &quot;opacity&quot;: 1, &quot;subdomains&quot;: &quot;abc&quot;, &quot;tms&quot;: false}\n            ).addTo(map_6c25fceac0a96b1f58d9f7ada6c372cc);\n        \n    \n            var marker_275d49ac31be38b10b8fe3e2d8f45e9a = L.marker(\n                [50.650991, 2.96973],\n                {}\n            ).addTo(map_6c25fceac0a96b1f58d9f7ada6c372cc);\n        \n    \n            var icon_1a882ceaf5c893506f985efc308d84e9 = L.AwesomeMarkers.icon(\n                {&quot;extraClasses&quot;: &quot;fa-rotate-0&quot;, &quot;icon&quot;: &quot;home&quot;, &quot;iconColor&quot;: &quot;#cdd9ec&quot;, &quot;markerColor&quot;: &quot;black&quot;, &quot;prefix&quot;: &quot;glyphicon&quot;}\n            );\n            marker_275d49ac31be38b10b8fe3e2d8f45e9a.setIcon(icon_1a882ceaf5c893506f985efc308d84e9);\n        \n    \n        var popup_8532552cfd024c4704a105fd53ca0b24 = L.popup({&quot;maxWidth&quot;: &quot;100%&quot;});\n\n        \n            \n                var html_6324bf648a12e14614387445c6123bd9 = $(`&lt;div id=&quot;html_6324bf648a12e14614387445c6123bd9&quot; style=&quot;width: 100.0%; height: 100.0%;&quot;&gt;Année de construction: 1947, &lt;br&gt;DPE: C&lt;/div&gt;`)[0];\n                popup_8532552cfd024c4704a105fd53ca0b24.setContent(html_6324bf648a12e14614387445c6123bd9);\n            \n        \n\n        marker_275d49ac31be38b10b8fe3e2d8f45e9a.bindPopup(popup_8532552cfd024c4704a105fd53ca0b24)\n        ;\n\n        \n    \n    \n            var marker_c37774b1bdcbe541d10f220caf29ad91 = L.marker(\n                [45.368081, 4.514935],\n                {}\n            ).addTo(map_6c25fceac0a96b1f58d9f7ada6c372cc);\n        \n    \n            var icon_e245a3fcd3b3ad8287cc74c929471a4a = L.AwesomeMarkers.icon(\n                {&quot;extraClasses&quot;: &quot;fa-rotate-0&quot;, &quot;icon&quot;: &quot;home&quot;, &quot;iconColor&quot;: &quot;#f7b89c&quot;, &quot;markerColor&quot;: &quot;black&quot;, &quot;prefix&quot;: &quot;glyphicon&quot;}\n            );\n            marker_c37774b1bdcbe541d10f220caf29ad91.setIcon(icon_e245a3fcd3b3ad8287cc74c929471a4a);\n        \n    \n        var popup_bc21e437f74bdc0554364654d70ef20e = L.popup({&quot;maxWidth&quot;: &quot;100%&quot;});\n\n        \n            \n                var html_a591db34b5f68c4c48ffb7a3f2da110b = $(`&lt;div id=&quot;html_a591db34b5f68c4c48ffb7a3f2da110b&quot; style=&quot;width: 100.0%; height: 100.0%;&quot;&gt;Année de construction: 1947, &lt;br&gt;DPE: E&lt;/div&gt;`)[0];\n                popup_bc21e437f74bdc0554364654d70ef20e.setContent(html_a591db34b5f68c4c48ffb7a3f2da110b);\n            \n        \n\n        marker_c37774b1bdcbe541d10f220caf29ad91.bindPopup(popup_bc21e437f74bdc0554364654d70ef20e)\n        ;\n\n        \n    \n    \n            var marker_77d7881d669e401cfa8111c1dcee9a35 = L.marker(\n                [47.048436, -0.869602],\n                {}\n            ).addTo(map_6c25fceac0a96b1f58d9f7ada6c372cc);\n        \n    \n            var icon_07ae27f711991906b610ce715d39e1f5 = L.AwesomeMarkers.icon(\n                {&quot;extraClasses&quot;: &quot;fa-rotate-0&quot;, &quot;icon&quot;: &quot;home&quot;, &quot;iconColor&quot;: &quot;#cdd9ec&quot;, &quot;markerColor&quot;: &quot;black&quot;, &quot;prefix&quot;: &quot;glyphicon&quot;}\n            );\n            marker_77d7881d669e401cfa8111c1dcee9a35.setIcon(icon_07ae27f711991906b610ce715d39e1f5);\n        \n    \n        var popup_f45e5fc847c02cec544f7420e34bc88d = L.popup({&quot;maxWidth&quot;: &quot;100%&quot;});\n\n        \n            \n                var html_bf65cffdea12e37cd85e2be2786406b8 = $(`&lt;div id=&quot;html_bf65cffdea12e37cd85e2be2786406b8&quot; style=&quot;width: 100.0%; height: 100.0%;&quot;&gt;Année de construction: 2006, &lt;br&gt;DPE: C&lt;/div&gt;`)[0];\n                popup_f45e5fc847c02cec544f7420e34bc88d.setContent(html_bf65cffdea12e37cd85e2be2786406b8);\n            \n        \n\n        marker_77d7881d669e401cfa8111c1dcee9a35.bindPopup(popup_f45e5fc847c02cec544f7420e34bc88d)\n        ;\n\n        \n    \n    \n            var marker_e51ce255b64a74c43804ee07dcb72848 = L.marker(\n                [50.172888, 3.233857],\n                {}\n            ).addTo(map_6c25fceac0a96b1f58d9f7ada6c372cc);\n        \n    \n            var icon_bbfc9e7e3bc7274da2173c8f1526c949 = L.AwesomeMarkers.icon(\n                {&quot;extraClasses&quot;: &quot;fa-rotate-0&quot;, &quot;icon&quot;: &quot;home&quot;, &quot;iconColor&quot;: &quot;#f7b89c&quot;, &quot;markerColor&quot;: &quot;black&quot;, &quot;prefix&quot;: &quot;glyphicon&quot;}\n            );\n            marker_e51ce255b64a74c43804ee07dcb72848.setIcon(icon_bbfc9e7e3bc7274da2173c8f1526c949);\n        \n    \n        var popup_f428d8bfd5dee4aefefd3daed74d5183 = L.popup({&quot;maxWidth&quot;: &quot;100%&quot;});\n\n        \n            \n                var html_7831721b477fdbdffb8a9fa50ca121bf = $(`&lt;div id=&quot;html_7831721b477fdbdffb8a9fa50ca121bf&quot; style=&quot;width: 100.0%; height: 100.0%;&quot;&gt;Année de construction: 1960, &lt;br&gt;DPE: E&lt;/div&gt;`)[0];\n                popup_f428d8bfd5dee4aefefd3daed74d5183.setContent(html_7831721b477fdbdffb8a9fa50ca121bf);\n            \n        \n\n        marker_e51ce255b64a74c43804ee07dcb72848.bindPopup(popup_f428d8bfd5dee4aefefd3daed74d5183)\n        ;\n\n        \n    \n    \n            var marker_85ae317b64e33324af151b68b584e5d2 = L.marker(\n                [48.947194, 2.138963],\n                {}\n            ).addTo(map_6c25fceac0a96b1f58d9f7ada6c372cc);\n        \n    \n            var icon_0589529388b5daf6ea6d2d80aa4c60cc = L.AwesomeMarkers.icon(\n                {&quot;extraClasses&quot;: &quot;fa-rotate-0&quot;, &quot;icon&quot;: &quot;home&quot;, &quot;iconColor&quot;: &quot;#f7b89c&quot;, &quot;markerColor&quot;: &quot;black&quot;, &quot;prefix&quot;: &quot;glyphicon&quot;}\n            );\n            marker_85ae317b64e33324af151b68b584e5d2.setIcon(icon_0589529388b5daf6ea6d2d80aa4c60cc);\n        \n    \n        var popup_d86fa872d9b8cf655e035e6d4804acef = L.popup({&quot;maxWidth&quot;: &quot;100%&quot;});\n\n        \n            \n                var html_f88cb48301927f2a6301728f1974e983 = $(`&lt;div id=&quot;html_f88cb48301927f2a6301728f1974e983&quot; style=&quot;width: 100.0%; height: 100.0%;&quot;&gt;Année de construction: 2002, &lt;br&gt;DPE: E&lt;/div&gt;`)[0];\n                popup_d86fa872d9b8cf655e035e6d4804acef.setContent(html_f88cb48301927f2a6301728f1974e983);\n            \n        \n\n        marker_85ae317b64e33324af151b68b584e5d2.bindPopup(popup_d86fa872d9b8cf655e035e6d4804acef)\n        ;\n\n        \n    \n    \n            var marker_52546c8f7a4badc2139896de4da1a7d9 = L.marker(\n                [44.868241, -0.67105],\n                {}\n            ).addTo(map_6c25fceac0a96b1f58d9f7ada6c372cc);\n        \n    \n            var icon_a54bc0351b9fb6c29d0406b1ed1cd06a = L.AwesomeMarkers.icon(\n                {&quot;extraClasses&quot;: &quot;fa-rotate-0&quot;, &quot;icon&quot;: &quot;home&quot;, &quot;iconColor&quot;: &quot;#f7b89c&quot;, &quot;markerColor&quot;: &quot;black&quot;, &quot;prefix&quot;: &quot;glyphicon&quot;}\n            );\n            marker_52546c8f7a4badc2139896de4da1a7d9.setIcon(icon_a54bc0351b9fb6c29d0406b1ed1cd06a);\n        \n    \n        var popup_764efc6e1670d85838f5e3cf606742bc = L.popup({&quot;maxWidth&quot;: &quot;100%&quot;});\n\n        \n            \n                var html_3f36c32e98a8762f84425bec93cc9d2e = $(`&lt;div id=&quot;html_3f36c32e98a8762f84425bec93cc9d2e&quot; style=&quot;width: 100.0%; height: 100.0%;&quot;&gt;Année de construction: 1962, &lt;br&gt;DPE: E&lt;/div&gt;`)[0];\n                popup_764efc6e1670d85838f5e3cf606742bc.setContent(html_3f36c32e98a8762f84425bec93cc9d2e);\n            \n        \n\n        marker_52546c8f7a4badc2139896de4da1a7d9.bindPopup(popup_764efc6e1670d85838f5e3cf606742bc)\n        ;\n\n        \n    \n    \n            var marker_463c05596b43719287a028908ada43a1 = L.marker(\n                [43.711585, 7.268805],\n                {}\n            ).addTo(map_6c25fceac0a96b1f58d9f7ada6c372cc);\n        \n    \n            var icon_6ade6a653064253afea274678bc67511 = L.AwesomeMarkers.icon(\n                {&quot;extraClasses&quot;: &quot;fa-rotate-0&quot;, &quot;icon&quot;: &quot;home&quot;, &quot;iconColor&quot;: &quot;#cdd9ec&quot;, &quot;markerColor&quot;: &quot;black&quot;, &quot;prefix&quot;: &quot;glyphicon&quot;}\n            );\n            marker_463c05596b43719287a028908ada43a1.setIcon(icon_6ade6a653064253afea274678bc67511);\n        \n    \n        var popup_ab9a5fe1119fb0ee49f99bcb2052d116 = L.popup({&quot;maxWidth&quot;: &quot;100%&quot;});\n\n        \n            \n                var html_6d8a7589869696247f212f4732d4b412 = $(`&lt;div id=&quot;html_6d8a7589869696247f212f4732d4b412&quot; style=&quot;width: 100.0%; height: 100.0%;&quot;&gt;Année de construction: 1947, &lt;br&gt;DPE: C&lt;/div&gt;`)[0];\n                popup_ab9a5fe1119fb0ee49f99bcb2052d116.setContent(html_6d8a7589869696247f212f4732d4b412);\n            \n        \n\n        marker_463c05596b43719287a028908ada43a1.bindPopup(popup_ab9a5fe1119fb0ee49f99bcb2052d116)\n        ;\n\n        \n    \n    \n            var marker_b969694ab51934c00ac571c83e2157b6 = L.marker(\n                [48.688174, 2.377034],\n                {}\n            ).addTo(map_6c25fceac0a96b1f58d9f7ada6c372cc);\n        \n    \n            var icon_46d87d4085f7dcc15731bcf76dc5b980 = L.AwesomeMarkers.icon(\n                {&quot;extraClasses&quot;: &quot;fa-rotate-0&quot;, &quot;icon&quot;: &quot;home&quot;, &quot;iconColor&quot;: &quot;#f7b89c&quot;, &quot;markerColor&quot;: &quot;black&quot;, &quot;prefix&quot;: &quot;glyphicon&quot;}\n            );\n            marker_b969694ab51934c00ac571c83e2157b6.setIcon(icon_46d87d4085f7dcc15731bcf76dc5b980);\n        \n    \n        var popup_1576ee1aa19f0e4b81bee0f01d394793 = L.popup({&quot;maxWidth&quot;: &quot;100%&quot;});\n\n        \n            \n                var html_1612d82dab47f204a11f1b70667bf27b = $(`&lt;div id=&quot;html_1612d82dab47f204a11f1b70667bf27b&quot; style=&quot;width: 100.0%; height: 100.0%;&quot;&gt;Année de construction: 1947, &lt;br&gt;DPE: E&lt;/div&gt;`)[0];\n                popup_1576ee1aa19f0e4b81bee0f01d394793.setContent(html_1612d82dab47f204a11f1b70667bf27b);\n            \n        \n\n        marker_b969694ab51934c00ac571c83e2157b6.bindPopup(popup_1576ee1aa19f0e4b81bee0f01d394793)\n        ;\n\n        \n    \n    \n            var marker_bba44170696a3d8d51adc7e2826428a8 = L.marker(\n                [43.642411, 7.035803],\n                {}\n            ).addTo(map_6c25fceac0a96b1f58d9f7ada6c372cc);\n        \n    \n            var icon_5cd9d6a809881710ced24e4102a63422 = L.AwesomeMarkers.icon(\n                {&quot;extraClasses&quot;: &quot;fa-rotate-0&quot;, &quot;icon&quot;: &quot;home&quot;, &quot;iconColor&quot;: &quot;#f7b89c&quot;, &quot;markerColor&quot;: &quot;black&quot;, &quot;prefix&quot;: &quot;glyphicon&quot;}\n            );\n            marker_bba44170696a3d8d51adc7e2826428a8.setIcon(icon_5cd9d6a809881710ced24e4102a63422);\n        \n    \n        var popup_e54da34c41e1961bdad175957422ec6f = L.popup({&quot;maxWidth&quot;: &quot;100%&quot;});\n\n        \n            \n                var html_aa61408e67b18c003c8106d7c159573d = $(`&lt;div id=&quot;html_aa61408e67b18c003c8106d7c159573d&quot; style=&quot;width: 100.0%; height: 100.0%;&quot;&gt;Année de construction: 1974, &lt;br&gt;DPE: E&lt;/div&gt;`)[0];\n                popup_e54da34c41e1961bdad175957422ec6f.setContent(html_aa61408e67b18c003c8106d7c159573d);\n            \n        \n\n        marker_bba44170696a3d8d51adc7e2826428a8.bindPopup(popup_e54da34c41e1961bdad175957422ec6f)\n        ;\n\n        \n    \n    \n            var marker_d4ae830e9d14811e71075fbdef223c8a = L.marker(\n                [49.26726, 2.492871],\n                {}\n            ).addTo(map_6c25fceac0a96b1f58d9f7ada6c372cc);\n        \n    \n            var icon_0021c420ba48052f5498b88fb6e652ce = L.AwesomeMarkers.icon(\n                {&quot;extraClasses&quot;: &quot;fa-rotate-0&quot;, &quot;icon&quot;: &quot;home&quot;, &quot;iconColor&quot;: &quot;#f7b89c&quot;, &quot;markerColor&quot;: &quot;black&quot;, &quot;prefix&quot;: &quot;glyphicon&quot;}\n            );\n            marker_d4ae830e9d14811e71075fbdef223c8a.setIcon(icon_0021c420ba48052f5498b88fb6e652ce);\n        \n    \n        var popup_5ea8bf4d1d770a9ec88fe2b3cf5ba4f9 = L.popup({&quot;maxWidth&quot;: &quot;100%&quot;});\n\n        \n            \n                var html_ccb04d1195fc47ef1c4657a32b874d45 = $(`&lt;div id=&quot;html_ccb04d1195fc47ef1c4657a32b874d45&quot; style=&quot;width: 100.0%; height: 100.0%;&quot;&gt;Année de construction: 1990, &lt;br&gt;DPE: E&lt;/div&gt;`)[0];\n                popup_5ea8bf4d1d770a9ec88fe2b3cf5ba4f9.setContent(html_ccb04d1195fc47ef1c4657a32b874d45);\n            \n        \n\n        marker_d4ae830e9d14811e71075fbdef223c8a.bindPopup(popup_5ea8bf4d1d770a9ec88fe2b3cf5ba4f9)\n        ;\n\n        \n    \n    \n            map_6c25fceac0a96b1f58d9f7ada6c372cc.fitBounds(\n                [[43.642411, -0.869602], [50.650991, 7.268805]],\n                {}\n            );\n        \n&lt;/script&gt;\n&lt;/html&gt;\" style=\"position:absolute;width:100%;height:100%;left:0;top:0;border:none !important;\" allowfullscreen webkitallowfullscreen mozallowfullscreen></iframe></div></div>"
     },
     "execution_count": 15,
     "metadata": {},
     "output_type": "execute_result"
    }
   ],
   "source": [
    "m"
   ]
  },
  {
   "cell_type": "markdown",
   "source": [
    "# Look at labels"
   ],
   "metadata": {
    "collapsed": false
   }
  },
  {
   "cell_type": "code",
   "execution_count": 16,
   "outputs": [
    {
     "data": {
      "text/plain": "        classe_consommation_energie classe_estimation_ges\nid                                                       \n9847012                           C                     D\n3100675                           E                     B\n7649230                           G                     D\n9675593                           C                     B\n7957705                           E                     E",
      "text/html": "<div>\n<style scoped>\n    .dataframe tbody tr th:only-of-type {\n        vertical-align: middle;\n    }\n\n    .dataframe tbody tr th {\n        vertical-align: top;\n    }\n\n    .dataframe thead th {\n        text-align: right;\n    }\n</style>\n<table border=\"1\" class=\"dataframe\">\n  <thead>\n    <tr style=\"text-align: right;\">\n      <th></th>\n      <th>classe_consommation_energie</th>\n      <th>classe_estimation_ges</th>\n    </tr>\n    <tr>\n      <th>id</th>\n      <th></th>\n      <th></th>\n    </tr>\n  </thead>\n  <tbody>\n    <tr>\n      <th>9847012</th>\n      <td>C</td>\n      <td>D</td>\n    </tr>\n    <tr>\n      <th>3100675</th>\n      <td>E</td>\n      <td>B</td>\n    </tr>\n    <tr>\n      <th>7649230</th>\n      <td>G</td>\n      <td>D</td>\n    </tr>\n    <tr>\n      <th>9675593</th>\n      <td>C</td>\n      <td>B</td>\n    </tr>\n    <tr>\n      <th>7957705</th>\n      <td>E</td>\n      <td>E</td>\n    </tr>\n  </tbody>\n</table>\n</div>"
     },
     "execution_count": 16,
     "metadata": {},
     "output_type": "execute_result"
    }
   ],
   "source": [
    "Y_train.head()"
   ],
   "metadata": {
    "collapsed": false
   }
  },
  {
   "cell_type": "code",
   "execution_count": 17,
   "outputs": [
    {
     "data": {
      "text/plain": "       classe_consommation_energie classe_estimation_ges\ncount                       197413                197413\nunique                          10                     9\ntop                              D                     B\nfreq                         47942                 57971",
      "text/html": "<div>\n<style scoped>\n    .dataframe tbody tr th:only-of-type {\n        vertical-align: middle;\n    }\n\n    .dataframe tbody tr th {\n        vertical-align: top;\n    }\n\n    .dataframe thead th {\n        text-align: right;\n    }\n</style>\n<table border=\"1\" class=\"dataframe\">\n  <thead>\n    <tr style=\"text-align: right;\">\n      <th></th>\n      <th>classe_consommation_energie</th>\n      <th>classe_estimation_ges</th>\n    </tr>\n  </thead>\n  <tbody>\n    <tr>\n      <th>count</th>\n      <td>197413</td>\n      <td>197413</td>\n    </tr>\n    <tr>\n      <th>unique</th>\n      <td>10</td>\n      <td>9</td>\n    </tr>\n    <tr>\n      <th>top</th>\n      <td>D</td>\n      <td>B</td>\n    </tr>\n    <tr>\n      <th>freq</th>\n      <td>47942</td>\n      <td>57971</td>\n    </tr>\n  </tbody>\n</table>\n</div>"
     },
     "execution_count": 17,
     "metadata": {},
     "output_type": "execute_result"
    }
   ],
   "source": [
    "Y_train.describe()"
   ],
   "metadata": {
    "collapsed": false
   }
  },
  {
   "cell_type": "markdown",
   "source": [],
   "metadata": {
    "collapsed": false
   }
  },
  {
   "cell_type": "code",
   "execution_count": 18,
   "outputs": [
    {
     "data": {
      "text/plain": "(282019, 2)"
     },
     "execution_count": 18,
     "metadata": {},
     "output_type": "execute_result"
    }
   ],
   "source": [
    "Y = pd.concat([Y_train, Y_test], axis=0)\n",
    "Y.shape"
   ],
   "metadata": {
    "collapsed": false
   }
  },
  {
   "cell_type": "code",
   "execution_count": 19,
   "outputs": [
    {
     "data": {
      "text/plain": "<Figure size 500x500 with 2 Axes>",
      "image/png": "[encoded data removed]"
     },
     "metadata": {},
     "output_type": "display_data"
    }
   ],
   "source": [
    "sns.displot(Y, x=\"classe_consommation_energie\", y=\"classe_estimation_ges\", row_order=[\"A\", \"B\", \"C\", \"D\", \"E\", \"F\", \"G\", \"H\"], col_order=[\"A\", \"B\", \"C\", \"D\", \"E\", \"F\", \"G\", \"H\"], cbar=True)\n",
    "plt.show()"
   ],
   "metadata": {
    "collapsed": false
   }
  },
  {
   "cell_type": "code",
   "execution_count": 20,
   "outputs": [
    {
     "data": {
      "text/plain": "classe_consommation_energie  classe_estimation_ges\nD                            B                        38859\nE                            B                        19883\nA                            A                        19161\nC                            A                        18110\nF                            C                        17303\n                                                      ...  \nH                            G                            1\n                             F                            1\nA                            E                            1\nF                            H                            1\nJ                            D                            1\nLength: 65, dtype: int64"
     },
     "execution_count": 20,
     "metadata": {},
     "output_type": "execute_result"
    }
   ],
   "source": [
    "Y.value_counts()"
   ],
   "metadata": {
    "collapsed": false
   }
  },
  {
   "cell_type": "code",
   "execution_count": null,
   "outputs": [],
   "source": [],
   "metadata": {
    "collapsed": false
   }
  }
 ],
 "metadata": {
  "kernelspec": {
   "display_name": "Python 3 (ipykernel)",
   "language": "python",
   "name": "python3"
  },
  "language_info": {
   "codemirror_mode": {
    "name": "ipython",
    "version": 3
   },
   "file_extension": ".py",
   "mimetype": "text/x-python",
   "name": "python",
   "nbconvert_exporter": "python",
   "pygments_lexer": "ipython3",
   "version": "3.9.7"
  }
 },
 "nbformat": 4,
 "nbformat_minor": 5
}
